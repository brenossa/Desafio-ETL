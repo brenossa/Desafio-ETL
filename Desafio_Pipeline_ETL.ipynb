{
  "nbformat": 4,
  "nbformat_minor": 0,
  "metadata": {
    "colab": {
      "provenance": []
    },
    "kernelspec": {
      "name": "python3",
      "display_name": "Python 3"
    },
    "language_info": {
      "name": "python"
    }
  },
  "cells": [
    {
      "cell_type": "markdown",
      "source": [
        "# Etapa de Extração: Simulação de dados de postagens de um aplicativo de redes sociais"
      ],
      "metadata": {
        "id": "djO0Y3duIRxi"
      }
    },
    {
      "cell_type": "code",
      "execution_count": 1,
      "metadata": {
        "id": "FhbFf5qkIJDS"
      },
      "outputs": [],
      "source": [
        "import pandas as pd\n",
        "\n",
        "def extract_data():\n",
        "    data = {\n",
        "        'usuario_id': [1, 2, 3, 4, 5, 6, 7, 8, 9, 10],\n",
        "        'nome_usuario': ['usuario1', 'usuario2', 'usuario3', 'usuario4', 'usuario5', 'usuario6', 'usuario7', 'usuario8', 'usuario9', 'usuario10'],\n",
        "        'postagens': [15, 30, 8, 50, 12, 42, 5, 60, 25, 18]\n",
        "    }\n",
        "    return pd.DataFrame(data)\n",
        "\n",
        "raw_data = extract_data()"
      ]
    },
    {
      "cell_type": "markdown",
      "source": [
        "# Etapa de Transformação: Identificar os usuários mais ativos"
      ],
      "metadata": {
        "id": "krvnzBS6Ieio"
      }
    },
    {
      "cell_type": "code",
      "source": [
        "def transform_data(data):\n",
        "    top_users = data.sort_values(by='postagens', ascending=False).head(3)\n",
        "    return top_users\n",
        "\n",
        "transformed_data = transform_data(raw_data)"
      ],
      "metadata": {
        "id": "ooUoGrV2INJo"
      },
      "execution_count": 2,
      "outputs": []
    },
    {
      "cell_type": "markdown",
      "source": [
        "# Etapa de Carga: Exibir os usuários mais ativos\n"
      ],
      "metadata": {
        "id": "CB0lrBnuIfPy"
      }
    },
    {
      "cell_type": "code",
      "source": [
        "def load_data(data):\n",
        "    print(\"Usuários Mais Ativos:\")\n",
        "    print(data)\n",
        "\n",
        "load_data(transformed_data)"
      ],
      "metadata": {
        "colab": {
          "base_uri": "https://localhost:8080/"
        },
        "id": "3M69HkNYIoLK",
        "outputId": "0472ad9d-07e2-4f08-9312-dc4d6a1b90c6"
      },
      "execution_count": 3,
      "outputs": [
        {
          "output_type": "stream",
          "name": "stdout",
          "text": [
            "Usuários Mais Ativos:\n",
            "   usuario_id nome_usuario  postagens\n",
            "7           8     usuario8         60\n",
            "3           4     usuario4         50\n",
            "5           6     usuario6         42\n"
          ]
        }
      ]
    }
  ]
}